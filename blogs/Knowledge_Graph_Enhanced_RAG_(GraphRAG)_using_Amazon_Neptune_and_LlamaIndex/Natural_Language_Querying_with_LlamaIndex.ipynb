{
 "cells": [
  {
   "cell_type": "markdown",
   "id": "17bfbd6e-94fb-43dd-996d-268c6130384d",
   "metadata": {},
   "source": [
    "# Natural Language Querying using Amazon Neptune and LlamaIndex\n",
    "\n",
    "## Introduction\n",
    "\n",
    "In this notebook we are going to demonstrate how you can leverage [LlamaIndex](https://www.llamaindex.ai/), and specifically the [Property Graph Index](https://docs.llamaindex.ai/en/stable/examples/property_graph/property_graph_basic/) feature to perform natural language querying with Amazon Neptune.  Let's start by taking a look at the two main components here: LlamaIndex and Natural Language Querying\n",
    "\n",
    "LlamaIndex is a data structure and tooling designed to create and interact with large language model indexes. It facilitates the storage, searching, and querying of textual data using advanced vector database techniques in conjunction with large language models like GPT. This enables efficient and effective retrieval of relevant information from extensive text corpora.\n",
    "\n",
    "Natural language querying is the ability to interact with computer systems using human language, rather than structured query languages or complex programming commands. It allows users to ask questions or provide instructions in their native language, and the system processes this input to understand the intent and provide relevant information or perform the requested action.  In the example here we will be using LlamaIndex to translate a natural language question into a structured graph query, specifically openCypher, which is then be executed on data in your Amazon Neptune database.\n",
    "\n",
    "### Prerequisites\n",
    "\n",
    "For this notebook we will be using Amazon Neptune Database as our data store so you must have a Neptune Database configured.  The methodology presented here will also work with Neptune Analytics and we will call out where the code differs.  This notebook will also require permissions to run Amazon Bedrock models, specifically `Claude v3 Sonnet` and `Titan Embedding v1`.\n",
    "\n",
    "### Installing our dependencies\n",
    "\n",
    "Run the next cell to install the core LlamaIndex packages as well as the specific package for Amazon Neptune and Amazon Bedrock"
   ]
  },
  {
   "cell_type": "code",
   "execution_count": 1,
   "id": "283cf1fa-1429-4327-aab2-290041e825df",
   "metadata": {
    "tags": []
   },
   "outputs": [
    {
     "name": "stdout",
     "output_type": "stream",
     "text": [
      "Note: you may need to restart the kernel to use updated packages.\n"
     ]
    }
   ],
   "source": [
    "%pip install -q llama-index llama-index-graph-stores-neptune llama-index-llms-bedrock llama-index-embeddings-bedrock "
   ]
  },
  {
   "cell_type": "markdown",
   "id": "7c82b87d-8a2a-4102-99a0-510e21449cbd",
   "metadata": {},
   "source": [
    "### Loading your Data\n",
    "\n",
    "The data we will use in this notebook is based on the data in *[Graph Databases in Action](https://www.manning.com/books/graph-databases-in-action?a_aid=bechberger)* by Manning Publications. The book uses the most common graph access patterns to build a fictitious application, DiningByFriends, that uses friends and ratings to provide personalized restaurant recommendations.\n",
    "\n",
    "In the following notebook, we demonstrate how to use LlamaIndex and Amazon Neptune to build the queries for the DiningByFriends app using Natural Language questions instead of explicitly writing the queries.  \n"
   ]
  },
  {
   "cell_type": "code",
   "execution_count": 2,
   "id": "876d4604-4bea-4de6-af1a-04b4e6aad48a",
   "metadata": {},
   "outputs": [
    {
     "data": {
      "application/vnd.jupyter.widget-view+json": {
       "model_id": "aaaa0be3a97d4579adfcfe48f911ef53",
       "version_major": 2,
       "version_minor": 0
      },
      "text/plain": [
       "Dropdown(description='Source type:', options=('', 'samples', 'custom'), style=DescriptionStyle(description_wid…"
      ]
     },
     "metadata": {},
     "output_type": "display_data"
    },
    {
     "data": {
      "application/vnd.jupyter.widget-view+json": {
       "model_id": "af16aae65d0d453884f547d11383f81c",
       "version_major": 2,
       "version_minor": 0
      },
      "text/plain": [
       "Dropdown(description='Data model:', layout=Layout(display='none', visibility='hidden'), options=('', 'property…"
      ]
     },
     "metadata": {},
     "output_type": "display_data"
    },
    {
     "data": {
      "application/vnd.jupyter.widget-view+json": {
       "model_id": "100e57a2c7314d6dbce0b7c29dd85769",
       "version_major": 2,
       "version_minor": 0
      },
      "text/plain": [
       "Dropdown(description='Language:', layout=Layout(display='none', visibility='hidden'), options=('', 'opencypher…"
      ]
     },
     "metadata": {},
     "output_type": "display_data"
    },
    {
     "data": {
      "application/vnd.jupyter.widget-view+json": {
       "model_id": "c83afe8cdc844fad888b75e6624595a0",
       "version_major": 2,
       "version_minor": 0
      },
      "text/plain": [
       "Dropdown(description='Language:', layout=Layout(display='none', visibility='hidden'), options=('', 'opencypher…"
      ]
     },
     "metadata": {},
     "output_type": "display_data"
    },
    {
     "data": {
      "application/vnd.jupyter.widget-view+json": {
       "model_id": "7bd1b4b913ab40bd8901b7d2b740f6c1",
       "version_major": 2,
       "version_minor": 0
      },
      "text/plain": [
       "Dropdown(description='Data set:', layout=Layout(display='none', visibility='hidden'), options=(), style=Descri…"
      ]
     },
     "metadata": {},
     "output_type": "display_data"
    },
    {
     "data": {
      "application/vnd.jupyter.widget-view+json": {
       "model_id": "f58c13e2df6d4e17a87f7278ea10771f",
       "version_major": 2,
       "version_minor": 0
      },
      "text/plain": [
       "Dropdown(description='Full File Query:', index=1, layout=Layout(display='none', visibility='hidden'), options=…"
      ]
     },
     "metadata": {},
     "output_type": "display_data"
    },
    {
     "data": {
      "application/vnd.jupyter.widget-view+json": {
       "model_id": "ba33057ec4bd4f2493e20ef80567725c",
       "version_major": 2,
       "version_minor": 0
      },
      "text/plain": [
       "Dropdown(description='Location:', layout=Layout(display='none', visibility='hidden'), options=('Local', 'S3'),…"
      ]
     },
     "metadata": {},
     "output_type": "display_data"
    },
    {
     "data": {
      "application/vnd.jupyter.widget-view+json": {
       "model_id": "011f80a3b9b441e78dc48387e567e59b",
       "version_major": 2,
       "version_minor": 0
      },
      "text/plain": [
       "FileChooser(path='/home/ec2-user/SageMaker', filename='', title='', show_hidden=False, select_desc='Select', c…"
      ]
     },
     "metadata": {},
     "output_type": "display_data"
    },
    {
     "data": {
      "application/vnd.jupyter.widget-view+json": {
       "model_id": "ca38f10ff7c949a2b64a1dca8809ec39",
       "version_major": 2,
       "version_minor": 0
      },
      "text/plain": [
       "HBox(children=(Text(value='', description='Source:', placeholder='path/to/seedfiles/directory', style=Descript…"
      ]
     },
     "metadata": {},
     "output_type": "display_data"
    },
    {
     "data": {
      "application/vnd.jupyter.widget-view+json": {
       "model_id": "",
       "version_major": 2,
       "version_minor": 0
      },
      "text/plain": [
       "Button(description='Submit', layout=Layout(visibility='hidden'), style=ButtonStyle())"
      ]
     },
     "metadata": {},
     "output_type": "display_data"
    },
    {
     "data": {
      "application/vnd.jupyter.widget-view+json": {
       "model_id": "b51ccfaa49084a5b814b78701ef2a760",
       "version_major": 2,
       "version_minor": 0
      },
      "text/plain": [
       "Output()"
      ]
     },
     "metadata": {},
     "output_type": "display_data"
    },
    {
     "data": {
      "application/vnd.jupyter.widget-view+json": {
       "model_id": "d095ba00b78d417aae43f7e16ce9bbc6",
       "version_major": 2,
       "version_minor": 0
      },
      "text/plain": [
       "Output()"
      ]
     },
     "metadata": {},
     "output_type": "display_data"
    }
   ],
   "source": [
    "%seed --model property_graph --language gremlin --dataset dining_by_friends --run"
   ]
  },
  {
   "cell_type": "markdown",
   "id": "44c5e9b6-f861-4e02-a235-c5ed0a8aeaa4",
   "metadata": {},
   "source": [
    "## Setting up our LLM"
   ]
  },
  {
   "cell_type": "code",
   "execution_count": 3,
   "id": "b79b5a5d-51ee-43a0-8dca-9ea95e2eace1",
   "metadata": {
    "tags": []
   },
   "outputs": [],
   "source": [
    "from llama_index.llms.bedrock import Bedrock\n",
    "from llama_index.embeddings.bedrock import BedrockEmbedding\n",
    "\n",
    "\n",
    "# Setup LlamaIndex to use Claude V3 Sonnet for the LLM\n",
    "llm = Bedrock(model=\"anthropic.claude-3-sonnet-20240229-v1:0\")\n",
    "\n",
    "# Create the embedding model, this is required by the Property Graph\n",
    "embed_model = BedrockEmbedding(model=\"amazon.titan-embed-text-v1\")"
   ]
  },
  {
   "cell_type": "code",
   "execution_count": 4,
   "id": "5a2a3dd7-13ea-4e37-80c9-81f927574e5e",
   "metadata": {
    "tags": []
   },
   "outputs": [],
   "source": [
    "from llama_index.core import Settings\n",
    "\n",
    "Settings.llm = llm\n",
    "Settings.embed_model = embed_model"
   ]
  },
  {
   "cell_type": "markdown",
   "id": "85b2af2d-1582-44ae-bd95-9b4fbd434337",
   "metadata": {},
   "source": [
    "## Setting up our GraphStore"
   ]
  },
  {
   "cell_type": "code",
   "execution_count": 5,
   "id": "41e19cb2-7d20-41e6-b566-c7d7d9ecd69d",
   "metadata": {
    "tags": []
   },
   "outputs": [],
   "source": [
    "from llama_index.graph_stores.neptune import NeptuneDatabasePropertyGraphStore\n",
    "import graph_notebook as gn\n",
    "\n",
    "# Retrieve the configuration of the notebook to get the current host\n",
    "config = gn.configuration.get_config.get_config()\n",
    "\n",
    "graph_store = NeptuneDatabasePropertyGraphStore(host=config.host)"
   ]
  },
  {
   "cell_type": "markdown",
   "id": "dd821f96-00ab-4cef-9f6a-06b0a47e2d01",
   "metadata": {},
   "source": [
    "## Setting up our Index"
   ]
  },
  {
   "cell_type": "code",
   "execution_count": 6,
   "id": "091399d5-3777-4a37-a4f8-a9032cf66147",
   "metadata": {
    "tags": []
   },
   "outputs": [],
   "source": [
    "from llama_index.core import PropertyGraphIndex\n",
    "index = PropertyGraphIndex.from_existing(\n",
    "    property_graph_store=graph_store,\n",
    "    embed_model = embed_model,\n",
    "    llm=llm\n",
    ")"
   ]
  },
  {
   "cell_type": "markdown",
   "id": "2123df40-0b49-40cd-bdac-609ad2e97a60",
   "metadata": {},
   "source": [
    "## Setting up our Retriever"
   ]
  },
  {
   "cell_type": "code",
   "execution_count": 7,
   "id": "3957fed5-45f0-4eb2-bd4b-5e37d932f1b6",
   "metadata": {
    "tags": []
   },
   "outputs": [],
   "source": [
    "from llama_index.core.indices.property_graph import TextToCypherRetriever\n",
    "\n",
    "retriever = TextToCypherRetriever(index.property_graph_store)"
   ]
  },
  {
   "cell_type": "markdown",
   "id": "3676b7c8-6432-4869-9432-13c0f0cba33c",
   "metadata": {},
   "source": [
    "## Querying our graph"
   ]
  },
  {
   "cell_type": "code",
   "execution_count": 8,
   "id": "3ddb7de4-6c0f-4b18-9fb3-fbbaba513735",
   "metadata": {
    "tags": []
   },
   "outputs": [
    {
     "name": "stderr",
     "output_type": "stream",
     "text": [
      "/home/ec2-user/anaconda3/envs/JupyterSystemEnv/lib/python3.10/site-packages/dateutil/parser/_parser.py:1207: UnknownTimezoneWarning: tzname AKDT identified but not understood.  Pass `tzinfos` argument in order to correctly return a timezone-aware datetime.  In a future version, this will raise an exception.\n",
      "  warnings.warn(\"tzname {tzname} identified but not understood.  \"\n",
      "/home/ec2-user/anaconda3/envs/JupyterSystemEnv/lib/python3.10/site-packages/dateutil/parser/_parser.py:1207: UnknownTimezoneWarning: tzname AKST identified but not understood.  Pass `tzinfos` argument in order to correctly return a timezone-aware datetime.  In a future version, this will raise an exception.\n",
      "  warnings.warn(\"tzname {tzname} identified but not understood.  \"\n"
     ]
    },
    {
     "name": "stdout",
     "output_type": "stream",
     "text": [
      "Generated Cypher query:\n",
      "MATCH (p:person {first_name: 'Dave'})-[:friends]->(f:person)\n",
      "RETURN f.first_name, f.last_name\n",
      "\n",
      "Cypher Response:\n",
      "[{'f.first_name': 'Kelly', 'f.last_name': 'Gorman'}, {'f.first_name': 'Jim', 'f.last_name': 'Miller'}, {'f.first_name': 'Josh', 'f.last_name': 'Perry'}, {'f.first_name': 'Hank', 'f.last_name': 'Erin'}]\n"
     ]
    }
   ],
   "source": [
    "nodes = retriever.retrieve(\"Who are Dave's Friends?\")\n",
    "\n",
    "for node in nodes:\n",
    "    print(node.text)"
   ]
  },
  {
   "cell_type": "code",
   "execution_count": 11,
   "id": "321a6c74-7f7b-4aef-82f3-db532821bc5a",
   "metadata": {
    "tags": []
   },
   "outputs": [
    {
     "name": "stdout",
     "output_type": "stream",
     "text": [
      "Generated Cypher query:\n",
      "MATCH (p1:person {first_name: 'Dave'})-[:friends*..6]-(p2:person {first_name: 'Denise'})\n",
      "RETURN p1, p2\n",
      "\n",
      "Cypher Response:\n",
      "[{'p1': {'~id': '10', '~entityType': 'node', '~labels': ['person'], '~properties': {'person_id': 1, 'last_name': 'Bech', 'first_name': 'Dave'}}, 'p2': {'~id': '45', '~entityType': 'node', '~labels': ['person'], '~properties': {'person_id': 8, 'last_name': 'Mande', 'first_name': 'Denise'}}}, {'p1': {'~id': '10', '~entityType': 'node', '~labels': ['person'], '~properties': {'person_id': 1, 'last_name': 'Bech', 'first_name': 'Dave'}}, 'p2': {'~id': '45', '~entityType': 'node', '~labels': ['person'], '~properties': {'person_id': 8, 'last_name': 'Mande', 'first_name': 'Denise'}}}, {'p1': {'~id': '10', '~entityType': 'node', '~labels': ['person'], '~properties': {'person_id': 1, 'last_name': 'Bech', 'first_name': 'Dave'}}, 'p2': {'~id': '45', '~entityType': 'node', '~labels': ['person'], '~properties': {'person_id': 8, 'last_name': 'Mande', 'first_name': 'Denise'}}}, {'p1': {'~id': '10', '~entityType': 'node', '~labels': ['person'], '~properties': {'person_id': 1, 'last_name': 'Bech', 'first_name': 'Dave'}}, 'p2': {'~id': '45', '~entityType': 'node', '~labels': ['person'], '~properties': {'person_id': 8, 'last_name': 'Mande', 'first_name': 'Denise'}}}, {'p1': {'~id': '10', '~entityType': 'node', '~labels': ['person'], '~properties': {'person_id': 1, 'last_name': 'Bech', 'first_name': 'Dave'}}, 'p2': {'~id': '45', '~entityType': 'node', '~labels': ['person'], '~properties': {'person_id': 8, 'last_name': 'Mande', 'first_name': 'Denise'}}}, {'p1': {'~id': '10', '~entityType': 'node', '~labels': ['person'], '~properties': {'person_id': 1, 'last_name': 'Bech', 'first_name': 'Dave'}}, 'p2': {'~id': '45', '~entityType': 'node', '~labels': ['person'], '~properties': {'person_id': 8, 'last_name': 'Mande', 'first_name': 'Denise'}}}, {'p1': {'~id': '10', '~entityType': 'node', '~labels': ['person'], '~properties': {'person_id': 1, 'last_name': 'Bech', 'first_name': 'Dave'}}, 'p2': {'~id': '45', '~entityType': 'node', '~labels': ['person'], '~properties': {'person_id': 8, 'last_name': 'Mande', 'first_name': 'Denise'}}}, {'p1': {'~id': '10', '~entityType': 'node', '~labels': ['person'], '~properties': {'person_id': 1, 'last_name': 'Bech', 'first_name': 'Dave'}}, 'p2': {'~id': '45', '~entityType': 'node', '~labels': ['person'], '~properties': {'person_id': 8, 'last_name': 'Mande', 'first_name': 'Denise'}}}, {'p1': {'~id': '10', '~entityType': 'node', '~labels': ['person'], '~properties': {'person_id': 1, 'last_name': 'Bech', 'first_name': 'Dave'}}, 'p2': {'~id': '45', '~entityType': 'node', '~labels': ['person'], '~properties': {'person_id': 8, 'last_name': 'Mande', 'first_name': 'Denise'}}}, {'p1': {'~id': '10', '~entityType': 'node', '~labels': ['person'], '~properties': {'person_id': 1, 'last_name': 'Bech', 'first_name': 'Dave'}}, 'p2': {'~id': '45', '~entityType': 'node', '~labels': ['person'], '~properties': {'person_id': 8, 'last_name': 'Mande', 'first_name': 'Denise'}}}, {'p1': {'~id': '10', '~entityType': 'node', '~labels': ['person'], '~properties': {'person_id': 1, 'last_name': 'Bech', 'first_name': 'Dave'}}, 'p2': {'~id': '45', '~entityType': 'node', '~labels': ['person'], '~properties': {'person_id': 8, 'last_name': 'Mande', 'first_name': 'Denise'}}}]\n"
     ]
    }
   ],
   "source": [
    "nodes = retriever.retrieve(\"Are Dave and Denise connected?\")\n",
    "\n",
    "for node in nodes:\n",
    "    print(node.text)"
   ]
  },
  {
   "cell_type": "code",
   "execution_count": 12,
   "id": "784b9fe3-84be-4131-afd3-0c419954785b",
   "metadata": {},
   "outputs": [
    {
     "name": "stdout",
     "output_type": "stream",
     "text": [
      "Generated Cypher query:\n",
      "MATCH (p1:person {first_name: 'Dave'})-[:friends*..]->(p2:person {first_name: 'Denise'})\n",
      "RETURN p1, p2\n",
      "LIMIT 1\n",
      "\n",
      "Cypher Response:\n",
      "[{'p1': {'~id': '10', '~entityType': 'node', '~labels': ['person'], '~properties': {'person_id': 1, 'last_name': 'Bech', 'first_name': 'Dave'}}, 'p2': {'~id': '45', '~entityType': 'node', '~labels': ['person'], '~properties': {'person_id': 8, 'last_name': 'Mande', 'first_name': 'Denise'}}}]\n"
     ]
    }
   ],
   "source": [
    "nodes = retriever.retrieve(\"Are Dave and Denise connected? Return the path LIMIT 1 \")\n",
    "\n",
    "for node in nodes:\n",
    "    print(node.text)"
   ]
  },
  {
   "cell_type": "code",
   "execution_count": 13,
   "id": "a357fcb2-f671-417c-8a4f-d19df7647fb1",
   "metadata": {
    "tags": []
   },
   "outputs": [
    {
     "name": "stdout",
     "output_type": "stream",
     "text": [
      "Generated Cypher query:\n",
      "MATCH (p:person {first_name: 'Dave'})-[:lives]->(c:city)<-[:within]-(r:restaurant)-[:serves]->(cuisine:cuisine)\n",
      "WHERE cuisine.name IN ['diner', 'bar']\n",
      "MATCH (r)<-[a:about]-(rev:review)\n",
      "WITH r, max(rev.rating) AS max_rating\n",
      "MATCH (r)<-[a:about]-(rev:review)\n",
      "WHERE rev.rating = max_rating\n",
      "RETURN r.name, rev.rating\n",
      "ORDER BY r.name\n",
      "\n",
      "Cypher Response:\n",
      "[{'r.name': 'All Night Long', 'rev.rating': 4}, {'r.name': 'Northern Quench', 'rev.rating': 4}, {'r.name': 'Northern Quench', 'rev.rating': 4}, {'r.name': 'Satiated', 'rev.rating': 4}, {'r.name': 'Satiated', 'rev.rating': 4}, {'r.name': 'Without Chaser', 'rev.rating': 4}]\n"
     ]
    }
   ],
   "source": [
    "nodes = retriever.retrieve(\"What restaurants near Dave with a diner or bar cuisine is the highest rated? Return the name and rating ordered by name\")\n",
    "\n",
    "for node in nodes:\n",
    "    print(node.text)"
   ]
  }
 ],
 "metadata": {
  "kernelspec": {
   "display_name": "Python 3",
   "language": "python",
   "name": "python3"
  },
  "language_info": {
   "codemirror_mode": {
    "name": "ipython",
    "version": 3
   },
   "file_extension": ".py",
   "mimetype": "text/x-python",
   "name": "python",
   "nbconvert_exporter": "python",
   "pygments_lexer": "ipython3",
   "version": "3.10.8"
  }
 },
 "nbformat": 4,
 "nbformat_minor": 5
}
