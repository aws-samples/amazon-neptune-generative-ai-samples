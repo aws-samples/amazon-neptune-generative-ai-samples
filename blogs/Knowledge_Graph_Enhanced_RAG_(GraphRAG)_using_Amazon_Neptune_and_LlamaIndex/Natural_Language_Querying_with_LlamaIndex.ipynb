{
 "cells": [
  {
   "cell_type": "markdown",
   "id": "17bfbd6e-94fb-43dd-996d-268c6130384d",
   "metadata": {},
   "source": [
    "# Natural Language Querying using Amazon Neptune and LlamaIndex\n",
    "\n",
    "## Introduction\n",
    "\n",
    "In this notebook we are going to demonstrate how you can leverage [LlamaIndex](https://www.llamaindex.ai/), and specifically the [Property Graph Index](https://docs.llamaindex.ai/en/stable/examples/property_graph/property_graph_basic/) feature to perform natural language querying with Amazon Neptune.  Let's start by taking a look at the two main components here: LlamaIndex and Natural Language Querying\n",
    "\n",
    "LlamaIndex is a data structure and tooling designed to create and interact with large language model indexes. It facilitates the storage, searching, and querying of textual data using advanced vector database techniques in conjunction with large language models like GPT. This enables efficient and effective retrieval of relevant information from extensive text corpora.\n",
    "\n",
    "Natural language querying is the ability to interact with computer systems using human language, rather than structured query languages or complex programming commands. It allows users to ask questions or provide instructions in their native language, and the system processes this input to understand the intent and provide relevant information or perform the requested action.  In the example here we will be using LlamaIndex to translate a natural language question into a structured graph query, specifically openCypher, which is then be executed on data in your Amazon Neptune database.\n",
    "\n",
    "### Prerequisites\n",
    "\n",
    "For this notebook we will be using Amazon Neptune Database as our data store so you must have a Neptune Database configured.  The methodology presented here will also work with Neptune Analytics and we will call out where the code differs.  This notebook will also require permissions to run Amazon Bedrock models, specifically `Claude v3 Sonnet` and `Titan Embedding v1`.\n",
    "\n",
    "### Installing our dependencies\n",
    "\n",
    "Run the next cell to install the core LlamaIndex packages as well as the specific package for Amazon Neptune and Amazon Bedrock"
   ]
  },
  {
   "cell_type": "code",
   "execution_count": 1,
   "id": "283cf1fa-1429-4327-aab2-290041e825df",
   "metadata": {
    "tags": []
   },
   "outputs": [
    {
     "name": "stdout",
     "output_type": "stream",
     "text": [
      "Note: you may need to restart the kernel to use updated packages.\n"
     ]
    }
   ],
   "source": [
    "%pip install -q llama-index llama-index-graph-stores-neptune llama-index-llms-bedrock llama-index-embeddings-bedrock "
   ]
  },
  {
   "cell_type": "markdown",
   "id": "7c82b87d-8a2a-4102-99a0-510e21449cbd",
   "metadata": {},
   "source": [
    "### Loading your Data\n",
    "\n",
    "The data we will use in this notebook is based on the data in *[Graph Databases in Action](https://www.manning.com/books/graph-databases-in-action?a_aid=bechberger)* by Manning Publications. The book uses the most common graph access patterns to build a fictitious application, DiningByFriends, that uses friends and ratings to provide personalized restaurant recommendations.\n",
    "\n",
    "In the following notebook, we demonstrate how to use LlamaIndex and Amazon Neptune to build the queries for the DiningByFriends app using Natural Language questions instead of explicitly writing the queries.  \n"
   ]
  },
  {
   "cell_type": "code",
   "execution_count": null,
   "id": "876d4604-4bea-4de6-af1a-04b4e6aad48a",
   "metadata": {},
   "outputs": [],
   "source": [
    "%seed --model property_graph --language gremlin --dataset dining_by_friends --run"
   ]
  },
  {
   "cell_type": "markdown",
   "id": "85b2af2d-1582-44ae-bd95-9b4fbd434337",
   "metadata": {},
   "source": [
    "## Connecting to our Graph\n",
    "\n"
   ]
  },
  {
   "cell_type": "code",
   "execution_count": 4,
   "id": "41e19cb2-7d20-41e6-b566-c7d7d9ecd69d",
   "metadata": {
    "tags": []
   },
   "outputs": [],
   "source": [
    "from llama_index.graph_stores.neptune import NeptuneDatabasePropertyGraphStore\n",
    "import graph_notebook as gn\n",
    "\n",
    "# Retrieve the configuration of the notebook to get the current host\n",
    "config = gn.configuration.get_config.get_config()\n",
    "\n",
    "graph_store = NeptuneDatabasePropertyGraphStore(host=config.host)"
   ]
  },
  {
   "cell_type": "code",
   "execution_count": 5,
   "id": "b79b5a5d-51ee-43a0-8dca-9ea95e2eace1",
   "metadata": {
    "tags": []
   },
   "outputs": [],
   "source": [
    "from llama_index.llms.bedrock import Bedrock\n",
    "from llama_index.embeddings.bedrock import BedrockEmbedding\n",
    "\n",
    "\n",
    "# Setup LlamaIndex to use Claude V3 Sonnet for the LLM\n",
    "llm = Bedrock(model=\"anthropic.claude-3-sonnet-20240229-v1:0\")\n",
    "\n",
    "# Create the embedding model, this is required by the Property Graph\n",
    "embed_model = BedrockEmbedding(model=\"amazon.titan-embed-text-v1\")"
   ]
  },
  {
   "cell_type": "markdown",
   "id": "d9265f62-e7b8-487a-b158-7a1bfff8ebeb",
   "metadata": {},
   "source": [
    "Running the cell below will set the `llm` and `embed_model` globally."
   ]
  },
  {
   "cell_type": "code",
   "execution_count": null,
   "id": "11155514-8654-4d78-946c-adde2e2a870a",
   "metadata": {},
   "outputs": [],
   "source": [
    "from llama_index.core import Settings\n",
    "\n",
    "Settings.llm = llm\n",
    "Settings.embed_model = embed_model"
   ]
  },
  {
   "cell_type": "code",
   "execution_count": null,
   "id": "571d65ce-c8db-412f-a73b-b7f5719435de",
   "metadata": {},
   "outputs": [],
   "source": []
  },
  {
   "cell_type": "code",
   "execution_count": 7,
   "id": "091399d5-3777-4a37-a4f8-a9032cf66147",
   "metadata": {
    "tags": []
   },
   "outputs": [],
   "source": [
    "from llama_index.core import PropertyGraphIndex\n",
    "index = PropertyGraphIndex.from_existing(\n",
    "    property_graph_store=graph_store,\n",
    "    embed_model = embed_model,\n",
    "    llm=llm\n",
    ")"
   ]
  },
  {
   "cell_type": "code",
   "execution_count": null,
   "id": "90a7a0fb-4975-45b2-90b1-088966987bc3",
   "metadata": {},
   "outputs": [],
   "source": [
    "index.property_graph_store.get_schema_str()"
   ]
  },
  {
   "cell_type": "markdown",
   "id": "2123df40-0b49-40cd-bdac-609ad2e97a60",
   "metadata": {},
   "source": [
    "## Querying our Graph"
   ]
  },
  {
   "cell_type": "code",
   "execution_count": 11,
   "id": "3957fed5-45f0-4eb2-bd4b-5e37d932f1b6",
   "metadata": {
    "tags": []
   },
   "outputs": [
    {
     "name": "stdout",
     "output_type": "stream",
     "text": [
      "Generated Cypher query:\n",
      "MATCH (p:person {first_name: 'Dave'})-[:friends]->(friend:person)\n",
      "RETURN friend.first_name, friend.last_name\n",
      "\n",
      "Cypher Response:\n",
      "[{'friend.first_name': 'Kelly', 'friend.last_name': 'Gorman'}, {'friend.first_name': 'Jim', 'friend.last_name': 'Miller'}, {'friend.first_name': 'Josh', 'friend.last_name': 'Perry'}, {'friend.first_name': 'Hank', 'friend.last_name': 'Erin'}]\n"
     ]
    }
   ],
   "source": [
    "from llama_index.core.indices.property_graph import TextToCypherRetriever\n",
    "\n",
    "retriever = TextToCypherRetriever(index.property_graph_store, llm=llm)\n",
    "\n",
    "nodes = retriever.retrieve(\"Who are Dave's Friends?\")\n",
    "\n",
    "for node in nodes:\n",
    "    print(node.text)"
   ]
  },
  {
   "cell_type": "code",
   "execution_count": 12,
   "id": "3ddb7de4-6c0f-4b18-9fb3-fbbaba513735",
   "metadata": {
    "tags": []
   },
   "outputs": [
    {
     "name": "stdout",
     "output_type": "stream",
     "text": [
      "Generated Cypher query:\n",
      "MATCH (p1:person {first_name: 'Dave'})-[:friends*..6]-(p2:person {first_name: 'Denise'})\n",
      "RETURN p1, p2\n",
      "\n",
      "Cypher Response:\n",
      "[{'p1': {'~id': '10', '~entityType': 'node', '~labels': ['person'], '~properties': {'person_id': 1, 'last_name': 'Bech', 'first_name': 'Dave'}}, 'p2': {'~id': '45', '~entityType': 'node', '~labels': ['person'], '~properties': {'person_id': 8, 'last_name': 'Mande', 'first_name': 'Denise'}}}, {'p1': {'~id': '10', '~entityType': 'node', '~labels': ['person'], '~properties': {'person_id': 1, 'last_name': 'Bech', 'first_name': 'Dave'}}, 'p2': {'~id': '45', '~entityType': 'node', '~labels': ['person'], '~properties': {'person_id': 8, 'last_name': 'Mande', 'first_name': 'Denise'}}}, {'p1': {'~id': '10', '~entityType': 'node', '~labels': ['person'], '~properties': {'person_id': 1, 'last_name': 'Bech', 'first_name': 'Dave'}}, 'p2': {'~id': '45', '~entityType': 'node', '~labels': ['person'], '~properties': {'person_id': 8, 'last_name': 'Mande', 'first_name': 'Denise'}}}, {'p1': {'~id': '10', '~entityType': 'node', '~labels': ['person'], '~properties': {'person_id': 1, 'last_name': 'Bech', 'first_name': 'Dave'}}, 'p2': {'~id': '45', '~entityType': 'node', '~labels': ['person'], '~properties': {'person_id': 8, 'last_name': 'Mande', 'first_name': 'Denise'}}}, {'p1': {'~id': '10', '~entityType': 'node', '~labels': ['person'], '~properties': {'person_id': 1, 'last_name': 'Bech', 'first_name': 'Dave'}}, 'p2': {'~id': '45', '~entityType': 'node', '~labels': ['person'], '~properties': {'person_id': 8, 'last_name': 'Mande', 'first_name': 'Denise'}}}, {'p1': {'~id': '10', '~entityType': 'node', '~labels': ['person'], '~properties': {'person_id': 1, 'last_name': 'Bech', 'first_name': 'Dave'}}, 'p2': {'~id': '45', '~entityType': 'node', '~labels': ['person'], '~properties': {'person_id': 8, 'last_name': 'Mande', 'first_name': 'Denise'}}}, {'p1': {'~id': '10', '~entityType': 'node', '~labels': ['person'], '~properties': {'person_id': 1, 'last_name': 'Bech', 'first_name': 'Dave'}}, 'p2': {'~id': '45', '~entityType': 'node', '~labels': ['person'], '~properties': {'person_id': 8, 'last_name': 'Mande', 'first_name': 'Denise'}}}, {'p1': {'~id': '10', '~entityType': 'node', '~labels': ['person'], '~properties': {'person_id': 1, 'last_name': 'Bech', 'first_name': 'Dave'}}, 'p2': {'~id': '45', '~entityType': 'node', '~labels': ['person'], '~properties': {'person_id': 8, 'last_name': 'Mande', 'first_name': 'Denise'}}}, {'p1': {'~id': '10', '~entityType': 'node', '~labels': ['person'], '~properties': {'person_id': 1, 'last_name': 'Bech', 'first_name': 'Dave'}}, 'p2': {'~id': '45', '~entityType': 'node', '~labels': ['person'], '~properties': {'person_id': 8, 'last_name': 'Mande', 'first_name': 'Denise'}}}, {'p1': {'~id': '10', '~entityType': 'node', '~labels': ['person'], '~properties': {'person_id': 1, 'last_name': 'Bech', 'first_name': 'Dave'}}, 'p2': {'~id': '45', '~entityType': 'node', '~labels': ['person'], '~properties': {'person_id': 8, 'last_name': 'Mande', 'first_name': 'Denise'}}}, {'p1': {'~id': '10', '~entityType': 'node', '~labels': ['person'], '~properties': {'person_id': 1, 'last_name': 'Bech', 'first_name': 'Dave'}}, 'p2': {'~id': '45', '~entityType': 'node', '~labels': ['person'], '~properties': {'person_id': 8, 'last_name': 'Mande', 'first_name': 'Denise'}}}]\n"
     ]
    }
   ],
   "source": [
    "nodes = retriever.retrieve(\"Are Dave and Denise connected?\")\n",
    "\n",
    "for node in nodes:\n",
    "    print(node.text)"
   ]
  },
  {
   "cell_type": "code",
   "execution_count": null,
   "id": "321a6c74-7f7b-4aef-82f3-db532821bc5a",
   "metadata": {
    "tags": []
   },
   "outputs": [],
   "source": [
    "nodes = retriever.retrieve(\"Return the path of people connecting Dave and Denise?\")\n",
    "for node in nodes:\n",
    "    print(node.text)"
   ]
  },
  {
   "cell_type": "code",
   "execution_count": null,
   "id": "77cf72d6-e0cc-44d0-a513-070e9525c4f7",
   "metadata": {
    "tags": []
   },
   "outputs": [],
   "source": [
    "nodes = retriever.retrieve(\"What are the newest reviews for a restaurant 'Southern Fire'?\")\n",
    "\n",
    "for node in nodes:\n",
    "    print(node.text)"
   ]
  },
  {
   "cell_type": "code",
   "execution_count": null,
   "id": "784b9fe3-84be-4131-afd3-0c419954785b",
   "metadata": {
    "tags": []
   },
   "outputs": [],
   "source": [
    "nodes = retriever.retrieve(\"What restaurants near Dave with a diner or bar cuisine is the highest rated?\")\n",
    "\n",
    "for node in nodes:\n",
    "    print(node.text)"
   ]
  }
 ],
 "metadata": {
  "kernelspec": {
   "display_name": "Python 3",
   "language": "python",
   "name": "python3"
  },
  "language_info": {
   "codemirror_mode": {
    "name": "ipython",
    "version": 3
   },
   "file_extension": ".py",
   "mimetype": "text/x-python",
   "name": "python",
   "nbconvert_exporter": "python",
   "pygments_lexer": "ipython3",
   "version": "3.10.8"
  }
 },
 "nbformat": 4,
 "nbformat_minor": 5
}
